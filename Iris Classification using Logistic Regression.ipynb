{
 "cells": [
  {
   "cell_type": "code",
   "execution_count": 1,
   "id": "298c5efa",
   "metadata": {},
   "outputs": [],
   "source": [
    "import numpy as np\n",
    "import pandas as pd\n",
    "import seaborn as sns"
   ]
  },
  {
   "cell_type": "code",
   "execution_count": 2,
   "id": "63258c3c",
   "metadata": {},
   "outputs": [],
   "source": [
    "df = pd.read_csv('IRIS.csv')"
   ]
  },
  {
   "cell_type": "code",
   "execution_count": 3,
   "id": "ca255408",
   "metadata": {},
   "outputs": [
    {
     "data": {
      "text/html": [
       "<div>\n",
       "<style scoped>\n",
       "    .dataframe tbody tr th:only-of-type {\n",
       "        vertical-align: middle;\n",
       "    }\n",
       "\n",
       "    .dataframe tbody tr th {\n",
       "        vertical-align: top;\n",
       "    }\n",
       "\n",
       "    .dataframe thead th {\n",
       "        text-align: right;\n",
       "    }\n",
       "</style>\n",
       "<table border=\"1\" class=\"dataframe\">\n",
       "  <thead>\n",
       "    <tr style=\"text-align: right;\">\n",
       "      <th></th>\n",
       "      <th>sepal_length</th>\n",
       "      <th>sepal_width</th>\n",
       "      <th>petal_length</th>\n",
       "      <th>petal_width</th>\n",
       "      <th>species</th>\n",
       "    </tr>\n",
       "  </thead>\n",
       "  <tbody>\n",
       "    <tr>\n",
       "      <th>0</th>\n",
       "      <td>5.1</td>\n",
       "      <td>3.5</td>\n",
       "      <td>1.4</td>\n",
       "      <td>0.2</td>\n",
       "      <td>Iris-setosa</td>\n",
       "    </tr>\n",
       "    <tr>\n",
       "      <th>1</th>\n",
       "      <td>4.9</td>\n",
       "      <td>3.0</td>\n",
       "      <td>1.4</td>\n",
       "      <td>0.2</td>\n",
       "      <td>Iris-setosa</td>\n",
       "    </tr>\n",
       "    <tr>\n",
       "      <th>2</th>\n",
       "      <td>4.7</td>\n",
       "      <td>3.2</td>\n",
       "      <td>1.3</td>\n",
       "      <td>0.2</td>\n",
       "      <td>Iris-setosa</td>\n",
       "    </tr>\n",
       "    <tr>\n",
       "      <th>3</th>\n",
       "      <td>4.6</td>\n",
       "      <td>3.1</td>\n",
       "      <td>1.5</td>\n",
       "      <td>0.2</td>\n",
       "      <td>Iris-setosa</td>\n",
       "    </tr>\n",
       "    <tr>\n",
       "      <th>4</th>\n",
       "      <td>5.0</td>\n",
       "      <td>3.6</td>\n",
       "      <td>1.4</td>\n",
       "      <td>0.2</td>\n",
       "      <td>Iris-setosa</td>\n",
       "    </tr>\n",
       "  </tbody>\n",
       "</table>\n",
       "</div>"
      ],
      "text/plain": [
       "   sepal_length  sepal_width  petal_length  petal_width      species\n",
       "0           5.1          3.5           1.4          0.2  Iris-setosa\n",
       "1           4.9          3.0           1.4          0.2  Iris-setosa\n",
       "2           4.7          3.2           1.3          0.2  Iris-setosa\n",
       "3           4.6          3.1           1.5          0.2  Iris-setosa\n",
       "4           5.0          3.6           1.4          0.2  Iris-setosa"
      ]
     },
     "execution_count": 3,
     "metadata": {},
     "output_type": "execute_result"
    }
   ],
   "source": [
    "df.head()"
   ]
  },
  {
   "cell_type": "code",
   "execution_count": 4,
   "id": "3378e824",
   "metadata": {},
   "outputs": [
    {
     "data": {
      "text/plain": [
       "array(['Iris-setosa', 'Iris-versicolor', 'Iris-virginica'], dtype=object)"
      ]
     },
     "execution_count": 4,
     "metadata": {},
     "output_type": "execute_result"
    }
   ],
   "source": [
    "df['species'].unique()"
   ]
  },
  {
   "cell_type": "code",
   "execution_count": 5,
   "id": "1a47154b",
   "metadata": {},
   "outputs": [
    {
     "name": "stdout",
     "output_type": "stream",
     "text": [
      "<class 'pandas.core.frame.DataFrame'>\n",
      "RangeIndex: 150 entries, 0 to 149\n",
      "Data columns (total 5 columns):\n",
      " #   Column        Non-Null Count  Dtype  \n",
      "---  ------        --------------  -----  \n",
      " 0   sepal_length  150 non-null    float64\n",
      " 1   sepal_width   150 non-null    float64\n",
      " 2   petal_length  150 non-null    float64\n",
      " 3   petal_width   150 non-null    float64\n",
      " 4   species       150 non-null    object \n",
      "dtypes: float64(4), object(1)\n",
      "memory usage: 6.0+ KB\n"
     ]
    }
   ],
   "source": [
    "df.info()"
   ]
  },
  {
   "cell_type": "code",
   "execution_count": 8,
   "id": "9dffd24a",
   "metadata": {},
   "outputs": [],
   "source": [
    "int_cols = df.select_dtypes(include=np.float64)\n",
    "int_cols = int_cols.columns\n",
    "df[int_cols] = df[int_cols].astype(np.float32)"
   ]
  },
  {
   "cell_type": "code",
   "execution_count": 9,
   "id": "9e64f5ae",
   "metadata": {},
   "outputs": [
    {
     "name": "stdout",
     "output_type": "stream",
     "text": [
      "<class 'pandas.core.frame.DataFrame'>\n",
      "RangeIndex: 150 entries, 0 to 149\n",
      "Data columns (total 5 columns):\n",
      " #   Column        Non-Null Count  Dtype  \n",
      "---  ------        --------------  -----  \n",
      " 0   sepal_length  150 non-null    float32\n",
      " 1   sepal_width   150 non-null    float32\n",
      " 2   petal_length  150 non-null    float32\n",
      " 3   petal_width   150 non-null    float32\n",
      " 4   species       150 non-null    object \n",
      "dtypes: float32(4), object(1)\n",
      "memory usage: 3.6+ KB\n"
     ]
    }
   ],
   "source": [
    "df.info()"
   ]
  },
  {
   "cell_type": "code",
   "execution_count": 10,
   "id": "5cbdbfc9",
   "metadata": {},
   "outputs": [
    {
     "data": {
      "text/html": [
       "<div>\n",
       "<style scoped>\n",
       "    .dataframe tbody tr th:only-of-type {\n",
       "        vertical-align: middle;\n",
       "    }\n",
       "\n",
       "    .dataframe tbody tr th {\n",
       "        vertical-align: top;\n",
       "    }\n",
       "\n",
       "    .dataframe thead th {\n",
       "        text-align: right;\n",
       "    }\n",
       "</style>\n",
       "<table border=\"1\" class=\"dataframe\">\n",
       "  <thead>\n",
       "    <tr style=\"text-align: right;\">\n",
       "      <th></th>\n",
       "      <th>sepal_length</th>\n",
       "      <th>sepal_width</th>\n",
       "      <th>petal_length</th>\n",
       "      <th>petal_width</th>\n",
       "    </tr>\n",
       "  </thead>\n",
       "  <tbody>\n",
       "    <tr>\n",
       "      <th>count</th>\n",
       "      <td>150.000000</td>\n",
       "      <td>150.000000</td>\n",
       "      <td>150.000000</td>\n",
       "      <td>150.000000</td>\n",
       "    </tr>\n",
       "    <tr>\n",
       "      <th>mean</th>\n",
       "      <td>5.843333</td>\n",
       "      <td>3.054000</td>\n",
       "      <td>3.758667</td>\n",
       "      <td>1.198667</td>\n",
       "    </tr>\n",
       "    <tr>\n",
       "      <th>std</th>\n",
       "      <td>0.828066</td>\n",
       "      <td>0.433594</td>\n",
       "      <td>1.764420</td>\n",
       "      <td>0.763161</td>\n",
       "    </tr>\n",
       "    <tr>\n",
       "      <th>min</th>\n",
       "      <td>4.300000</td>\n",
       "      <td>2.000000</td>\n",
       "      <td>1.000000</td>\n",
       "      <td>0.100000</td>\n",
       "    </tr>\n",
       "    <tr>\n",
       "      <th>25%</th>\n",
       "      <td>5.100000</td>\n",
       "      <td>2.800000</td>\n",
       "      <td>1.600000</td>\n",
       "      <td>0.300000</td>\n",
       "    </tr>\n",
       "    <tr>\n",
       "      <th>50%</th>\n",
       "      <td>5.800000</td>\n",
       "      <td>3.000000</td>\n",
       "      <td>4.350000</td>\n",
       "      <td>1.300000</td>\n",
       "    </tr>\n",
       "    <tr>\n",
       "      <th>75%</th>\n",
       "      <td>6.400000</td>\n",
       "      <td>3.300000</td>\n",
       "      <td>5.100000</td>\n",
       "      <td>1.800000</td>\n",
       "    </tr>\n",
       "    <tr>\n",
       "      <th>max</th>\n",
       "      <td>7.900000</td>\n",
       "      <td>4.400000</td>\n",
       "      <td>6.900000</td>\n",
       "      <td>2.500000</td>\n",
       "    </tr>\n",
       "  </tbody>\n",
       "</table>\n",
       "</div>"
      ],
      "text/plain": [
       "       sepal_length  sepal_width  petal_length  petal_width\n",
       "count    150.000000   150.000000    150.000000   150.000000\n",
       "mean       5.843333     3.054000      3.758667     1.198667\n",
       "std        0.828066     0.433594      1.764420     0.763161\n",
       "min        4.300000     2.000000      1.000000     0.100000\n",
       "25%        5.100000     2.800000      1.600000     0.300000\n",
       "50%        5.800000     3.000000      4.350000     1.300000\n",
       "75%        6.400000     3.300000      5.100000     1.800000\n",
       "max        7.900000     4.400000      6.900000     2.500000"
      ]
     },
     "execution_count": 10,
     "metadata": {},
     "output_type": "execute_result"
    }
   ],
   "source": [
    "#ise kya pta chala by sir\n",
    "df.describe()"
   ]
  },
  {
   "cell_type": "code",
   "execution_count": 11,
   "id": "024cac33",
   "metadata": {},
   "outputs": [
    {
     "data": {
      "text/plain": [
       "sepal_length    0\n",
       "sepal_width     0\n",
       "petal_length    0\n",
       "petal_width     0\n",
       "species         0\n",
       "dtype: int64"
      ]
     },
     "execution_count": 11,
     "metadata": {},
     "output_type": "execute_result"
    }
   ],
   "source": [
    "df.isnull().sum()"
   ]
  },
  {
   "cell_type": "code",
   "execution_count": 16,
   "id": "74e9ff62",
   "metadata": {},
   "outputs": [
    {
     "data": {
      "text/plain": [
       "<AxesSubplot: >"
      ]
     },
     "execution_count": 16,
     "metadata": {},
     "output_type": "execute_result"
    },
    {
     "data": {
      "image/png": "[encoded data removed]",
      "text/plain": [
       "<Figure size 640x480 with 2 Axes>"
      ]
     },
     "metadata": {},
     "output_type": "display_data"
    }
   ],
   "source": [
    "sns.heatmap(df.isnull() )"
   ]
  },
  {
   "cell_type": "markdown",
   "id": "24a977f4",
   "metadata": {},
   "source": [
    "# Applying Logistic Regression"
   ]
  },
  {
   "cell_type": "code",
   "execution_count": 18,
   "id": "e4f8936b",
   "metadata": {},
   "outputs": [],
   "source": [
    "x = df.iloc[:,:-1].values\n",
    "y = df.iloc[:,-1].values"
   ]
  },
  {
   "cell_type": "code",
   "execution_count": 19,
   "id": "1262a3a4",
   "metadata": {},
   "outputs": [],
   "source": [
    "#Splitting the dataset into Training and Testing set\n",
    "from sklearn.model_selection import train_test_split\n",
    "x_train,x_test,y_train,y_test = train_test_split(x,y,test_size = 0.25,random_state =0)"
   ]
  },
  {
   "cell_type": "code",
   "execution_count": 20,
   "id": "41c78e17",
   "metadata": {},
   "outputs": [
    {
     "name": "stdout",
     "output_type": "stream",
     "text": [
      "[[5.9 3.  4.2 1.5]\n",
      " [5.8 2.6 4.  1.2]\n",
      " [6.8 3.  5.5 2.1]\n",
      " [4.7 3.2 1.3 0.2]\n",
      " [6.9 3.1 5.1 2.3]\n",
      " [5.  3.5 1.6 0.6]\n",
      " [5.4 3.7 1.5 0.2]\n",
      " [5.  2.  3.5 1. ]\n",
      " [6.5 3.  5.5 1.8]\n",
      " [6.7 3.3 5.7 2.5]\n",
      " [6.  2.2 5.  1.5]\n",
      " [6.7 2.5 5.8 1.8]\n",
      " [5.6 2.5 3.9 1.1]\n",
      " [7.7 3.  6.1 2.3]\n",
      " [6.3 3.3 4.7 1.6]\n",
      " [5.5 2.4 3.8 1.1]\n",
      " [6.3 2.7 4.9 1.8]\n",
      " [6.3 2.8 5.1 1.5]\n",
      " [4.9 2.5 4.5 1.7]\n",
      " [6.3 2.5 5.  1.9]\n",
      " [7.  3.2 4.7 1.4]\n",
      " [6.5 3.  5.2 2. ]\n",
      " [6.  3.4 4.5 1.6]\n",
      " [4.8 3.1 1.6 0.2]\n",
      " [5.8 2.7 5.1 1.9]\n",
      " [5.6 2.7 4.2 1.3]\n",
      " [5.6 2.9 3.6 1.3]\n",
      " [5.5 2.5 4.  1.3]\n",
      " [6.1 3.  4.6 1.4]\n",
      " [7.2 3.2 6.  1.8]\n",
      " [5.3 3.7 1.5 0.2]\n",
      " [4.3 3.  1.1 0.1]\n",
      " [6.4 2.7 5.3 1.9]\n",
      " [5.7 3.  4.2 1.2]\n",
      " [5.4 3.4 1.7 0.2]\n",
      " [5.7 4.4 1.5 0.4]\n",
      " [6.9 3.1 4.9 1.5]\n",
      " [4.6 3.1 1.5 0.2]\n",
      " [5.9 3.  5.1 1.8]\n",
      " [5.1 2.5 3.  1.1]\n",
      " [4.6 3.4 1.4 0.3]\n",
      " [6.2 2.2 4.5 1.5]\n",
      " [7.2 3.6 6.1 2.5]\n",
      " [5.7 2.9 4.2 1.3]\n",
      " [4.8 3.  1.4 0.1]\n",
      " [7.1 3.  5.9 2.1]\n",
      " [6.9 3.2 5.7 2.3]\n",
      " [6.5 3.  5.8 2.2]\n",
      " [6.4 2.8 5.6 2.1]\n",
      " [5.1 3.8 1.6 0.2]\n",
      " [4.8 3.4 1.6 0.2]\n",
      " [6.5 3.2 5.1 2. ]\n",
      " [6.7 3.3 5.7 2.1]\n",
      " [4.5 2.3 1.3 0.3]\n",
      " [6.2 3.4 5.4 2.3]\n",
      " [4.9 3.  1.4 0.2]\n",
      " [5.7 2.5 5.  2. ]\n",
      " [6.9 3.1 5.4 2.1]\n",
      " [4.4 3.2 1.3 0.2]\n",
      " [5.  3.6 1.4 0.2]\n",
      " [7.2 3.  5.8 1.6]\n",
      " [5.1 3.5 1.4 0.3]\n",
      " [4.4 3.  1.3 0.2]\n",
      " [5.4 3.9 1.7 0.4]\n",
      " [5.5 2.3 4.  1.3]\n",
      " [6.8 3.2 5.9 2.3]\n",
      " [7.6 3.  6.6 2.1]\n",
      " [5.1 3.5 1.4 0.2]\n",
      " [4.9 3.1 1.5 0.1]\n",
      " [5.2 3.4 1.4 0.2]\n",
      " [5.7 2.8 4.5 1.3]\n",
      " [6.6 3.  4.4 1.4]\n",
      " [5.  3.2 1.2 0.2]\n",
      " [5.1 3.3 1.7 0.5]\n",
      " [6.4 2.9 4.3 1.3]\n",
      " [5.4 3.4 1.5 0.4]\n",
      " [7.7 2.6 6.9 2.3]\n",
      " [4.9 2.4 3.3 1. ]\n",
      " [7.9 3.8 6.4 2. ]\n",
      " [6.7 3.1 4.4 1.4]\n",
      " [5.2 4.1 1.5 0.1]\n",
      " [6.  3.  4.8 1.8]\n",
      " [5.8 4.  1.2 0.2]\n",
      " [7.7 2.8 6.7 2. ]\n",
      " [5.1 3.8 1.5 0.3]\n",
      " [4.7 3.2 1.6 0.2]\n",
      " [7.4 2.8 6.1 1.9]\n",
      " [5.  3.3 1.4 0.2]\n",
      " [6.3 3.4 5.6 2.4]\n",
      " [5.7 2.8 4.1 1.3]\n",
      " [5.8 2.7 3.9 1.2]\n",
      " [5.7 2.6 3.5 1. ]\n",
      " [6.4 3.2 5.3 2.3]\n",
      " [6.7 3.  5.2 2.3]\n",
      " [6.3 2.5 4.9 1.5]\n",
      " [6.7 3.  5.  1.7]\n",
      " [5.  3.  1.6 0.2]\n",
      " [5.5 2.4 3.7 1. ]\n",
      " [6.7 3.1 5.6 2.4]\n",
      " [5.8 2.7 5.1 1.9]\n",
      " [5.1 3.4 1.5 0.2]\n",
      " [6.6 2.9 4.6 1.3]\n",
      " [5.6 3.  4.1 1.3]\n",
      " [5.9 3.2 4.8 1.8]\n",
      " [6.3 2.3 4.4 1.3]\n",
      " [5.5 3.5 1.3 0.2]\n",
      " [5.1 3.7 1.5 0.4]\n",
      " [4.9 3.1 1.5 0.1]\n",
      " [6.3 2.9 5.6 1.8]\n",
      " [5.8 2.7 4.1 1. ]\n",
      " [7.7 3.8 6.7 2.2]\n",
      " [4.6 3.2 1.4 0.2]]\n"
     ]
    }
   ],
   "source": [
    "print(x_train)"
   ]
  },
  {
   "cell_type": "code",
   "execution_count": 21,
   "id": "865b815e",
   "metadata": {},
   "outputs": [],
   "source": [
    "#Feature Scaling\n",
    "from sklearn.preprocessing import StandardScaler\n",
    "sc = StandardScaler()\n",
    "x_train = sc.fit_transform(x_train)\n",
    "x_test = sc.transform(x_test)\n"
   ]
  },
  {
   "cell_type": "code",
   "execution_count": 22,
   "id": "320ee31e",
   "metadata": {},
   "outputs": [
    {
     "name": "stdout",
     "output_type": "stream",
     "text": [
      "[[ 1.5440072e-02 -1.1925476e-01  2.2512674e-01  3.5638177e-01]\n",
      " [-9.9844798e-02 -1.0403951e+00  1.1355957e-01 -2.8647976e-02]\n",
      " [ 1.0530051e+00 -1.1925476e-01  9.5031422e-01  1.1264412e+00]\n",
      " [-1.3679801e+00  3.4131542e-01 -1.3925987e+00 -1.3120807e+00]\n",
      " [ 1.1682899e+00  1.1103006e-01  7.2717959e-01  1.3831279e+00]\n",
      " [-1.0221249e+00  1.0321704e+00 -1.2252479e+00 -7.9870760e-01]\n",
      " [-5.6098485e-01  1.4927406e+00 -1.2810315e+00 -1.3120807e+00]\n",
      " [-1.0221249e+00 -2.4221051e+00 -1.6535865e-01 -2.8533459e-01]\n",
      " [ 7.0714992e-01 -1.1925476e-01  9.5031422e-01  7.4141157e-01]\n",
      " [ 9.3771964e-01  5.7160026e-01  1.0618814e+00  1.6398145e+00]\n",
      " [ 1.3072495e-01 -1.9615350e+00  6.7139602e-01  3.5638177e-01]\n",
      " [ 9.3771964e-01 -1.2706800e+00  1.1176653e+00  7.4141157e-01]\n",
      " [-3.3041510e-01 -1.2706800e+00  5.7775982e-02 -1.5699127e-01]\n",
      " [ 2.0905695e+00 -1.1925476e-01  1.2850161e+00  1.3831279e+00]\n",
      " [ 4.7658011e-01  5.7160026e-01  5.0404495e-01  4.8472506e-01]\n",
      " [-4.4569999e-01 -1.5009648e+00  1.9922545e-03 -1.5699127e-01]\n",
      " [ 4.7658011e-01 -8.1010973e-01  6.1561245e-01  7.4141157e-01]\n",
      " [ 4.7658011e-01 -5.7982492e-01  7.2717959e-01  3.5638177e-01]\n",
      " [-1.1374098e+00 -1.2706800e+00  3.9247778e-01  6.1306834e-01]\n",
      " [ 4.7658011e-01 -1.2706800e+00  6.7139602e-01  8.6975485e-01]\n",
      " [ 1.2835748e+00  3.4131542e-01  5.0404495e-01  2.2803846e-01]\n",
      " [ 7.0714992e-01 -1.1925476e-01  7.8296322e-01  9.9809813e-01]\n",
      " [ 1.3072495e-01  8.0188566e-01  3.9247778e-01  4.8472506e-01]\n",
      " [-1.2526947e+00  1.1103006e-01 -1.2252479e+00 -1.3120807e+00]\n",
      " [-9.9844798e-02 -8.1010973e-01  7.2717959e-01  8.6975485e-01]\n",
      " [-3.3041510e-01 -8.1010973e-01  2.2512674e-01  9.9695168e-02]\n",
      " [-3.3041510e-01 -3.4953958e-01 -1.0957506e-01  9.9695168e-02]\n",
      " [-4.4569999e-01 -1.2706800e+00  1.1355957e-01  9.9695168e-02]\n",
      " [ 2.4600983e-01 -1.1925476e-01  4.4826138e-01  2.2803846e-01]\n",
      " [ 1.5141445e+00  3.4131542e-01  1.2292325e+00  7.4141157e-01]\n",
      " [-6.7626971e-01  1.4927406e+00 -1.2810315e+00 -1.3120807e+00]\n",
      " [-1.8291197e+00 -1.1925476e-01 -1.5041661e+00 -1.4404240e+00]\n",
      " [ 5.9186506e-01 -8.1010973e-01  8.3874702e-01  8.6975485e-01]\n",
      " [-2.1513024e-01 -1.1925476e-01  2.2512674e-01 -2.8647976e-02]\n",
      " [-5.6098485e-01  8.0188566e-01 -1.1694641e+00 -1.3120807e+00]\n",
      " [-2.1513024e-01  3.1047361e+00 -1.2810315e+00 -1.0553942e+00]\n",
      " [ 1.1682899e+00  1.1103006e-01  6.1561245e-01  3.5638177e-01]\n",
      " [-1.4832650e+00  1.1103006e-01 -1.2810315e+00 -1.3120807e+00]\n",
      " [ 1.5440072e-02 -1.1925476e-01  7.2717959e-01  7.4141157e-01]\n",
      " [-9.0684003e-01 -1.2706800e+00 -4.4427687e-01 -1.5699127e-01]\n",
      " [-1.4832650e+00  8.0188566e-01 -1.3368152e+00 -1.1837374e+00]\n",
      " [ 3.6129469e-01 -1.9615350e+00  3.9247778e-01  3.5638177e-01]\n",
      " [ 1.5141445e+00  1.2624552e+00  1.2850161e+00  1.6398145e+00]\n",
      " [-2.1513024e-01 -3.4953958e-01  2.2512674e-01  9.9695168e-02]\n",
      " [-1.2526947e+00 -1.1925476e-01 -1.3368152e+00 -1.4404240e+00]\n",
      " [ 1.3988596e+00 -1.1925476e-01  1.1734489e+00  1.1264412e+00]\n",
      " [ 1.1682899e+00  3.4131542e-01  1.0618814e+00  1.3831279e+00]\n",
      " [ 7.0714992e-01 -1.1925476e-01  1.1176653e+00  1.2547847e+00]\n",
      " [ 5.9186506e-01 -5.7982492e-01  1.0060978e+00  1.1264412e+00]\n",
      " [-9.0684003e-01  1.7230254e+00 -1.2252479e+00 -1.3120807e+00]\n",
      " [-1.2526947e+00  8.0188566e-01 -1.2252479e+00 -1.3120807e+00]\n",
      " [ 7.0714992e-01  3.4131542e-01  7.2717959e-01  9.9809813e-01]\n",
      " [ 9.3771964e-01  5.7160026e-01  1.0618814e+00  1.1264412e+00]\n",
      " [-1.5985498e+00 -1.7312502e+00 -1.3925987e+00 -1.1837374e+00]\n",
      " [ 3.6129469e-01  8.0188566e-01  8.9453065e-01  1.3831279e+00]\n",
      " [-1.1374098e+00 -1.1925476e-01 -1.3368152e+00 -1.3120807e+00]\n",
      " [-2.1513024e-01 -1.2706800e+00  6.7139602e-01  9.9809813e-01]\n",
      " [ 1.1682899e+00  1.1103006e-01  8.9453065e-01  1.1264412e+00]\n",
      " [-1.7138348e+00  3.4131542e-01 -1.3925987e+00 -1.3120807e+00]\n",
      " [-1.0221249e+00  1.2624552e+00 -1.3368152e+00 -1.3120807e+00]\n",
      " [ 1.5141445e+00 -1.1925476e-01  1.1176653e+00  4.8472506e-01]\n",
      " [-9.0684003e-01  1.0321704e+00 -1.3368152e+00 -1.1837374e+00]\n",
      " [-1.7138348e+00 -1.1925476e-01 -1.3925987e+00 -1.3120807e+00]\n",
      " [-5.6098485e-01  1.9533108e+00 -1.1694641e+00 -1.0553942e+00]\n",
      " [-4.4569999e-01 -1.7312502e+00  1.1355957e-01  9.9695168e-02]\n",
      " [ 1.0530051e+00  3.4131542e-01  1.1734489e+00  1.3831279e+00]\n",
      " [ 1.9752846e+00 -1.1925476e-01  1.5639343e+00  1.1264412e+00]\n",
      " [-9.0684003e-01  1.0321704e+00 -1.3368152e+00 -1.3120807e+00]\n",
      " [-1.1374098e+00  1.1103006e-01 -1.2810315e+00 -1.4404240e+00]\n",
      " [-7.9155517e-01  8.0188566e-01 -1.3368152e+00 -1.3120807e+00]\n",
      " [-2.1513024e-01 -5.7982492e-01  3.9247778e-01  9.9695168e-02]\n",
      " [ 8.2243478e-01 -1.1925476e-01  3.3669421e-01  2.2803846e-01]\n",
      " [-1.0221249e+00  3.4131542e-01 -1.4483824e+00 -1.3120807e+00]\n",
      " [-9.0684003e-01  5.7160026e-01 -1.1694641e+00 -9.2705089e-01]\n",
      " [ 5.9186506e-01 -3.4953958e-01  2.8091061e-01  9.9695168e-02]\n",
      " [-5.6098485e-01  8.0188566e-01 -1.2810315e+00 -1.0553942e+00]\n",
      " [ 2.0905695e+00 -1.0403951e+00  1.7312853e+00  1.3831279e+00]\n",
      " [-1.1374098e+00 -1.5009648e+00 -2.7692598e-01 -2.8533459e-01]\n",
      " [ 2.3211398e+00  1.7230254e+00  1.4523672e+00  9.9809813e-01]\n",
      " [ 9.3771964e-01  1.1103006e-01  3.3669421e-01  2.2803846e-01]\n",
      " [-7.9155517e-01  2.4138806e+00 -1.2810315e+00 -1.4404240e+00]\n",
      " [ 1.3072495e-01 -1.1925476e-01  5.5982882e-01  7.4141157e-01]\n",
      " [-9.9844798e-02  2.1835957e+00 -1.4483824e+00 -1.3120807e+00]\n",
      " [ 2.0905695e+00 -5.7982492e-01  1.6197180e+00  9.9809813e-01]\n",
      " [-9.0684003e-01  1.7230254e+00 -1.2810315e+00 -1.1837374e+00]\n",
      " [-1.3679801e+00  3.4131542e-01 -1.2252479e+00 -1.3120807e+00]\n",
      " [ 1.7447149e+00 -5.7982492e-01  1.2850161e+00  8.6975485e-01]\n",
      " [-1.0221249e+00  5.7160026e-01 -1.3368152e+00 -1.3120807e+00]\n",
      " [ 4.7658011e-01  8.0188566e-01  1.0060978e+00  1.5114714e+00]\n",
      " [-2.1513024e-01 -5.7982492e-01  1.6934316e-01  9.9695168e-02]\n",
      " [-9.9844798e-02 -8.1010973e-01  5.7775982e-02 -2.8647976e-02]\n",
      " [-2.1513024e-01 -1.0403951e+00 -1.6535865e-01 -2.8533459e-01]\n",
      " [ 5.9186506e-01  3.4131542e-01  8.3874702e-01  1.3831279e+00]\n",
      " [ 9.3771964e-01 -1.1925476e-01  7.8296322e-01  1.3831279e+00]\n",
      " [ 4.7658011e-01 -1.2706800e+00  6.1561245e-01  3.5638177e-01]\n",
      " [ 9.3771964e-01 -1.1925476e-01  6.7139602e-01  6.1306834e-01]\n",
      " [-1.0221249e+00 -1.1925476e-01 -1.2252479e+00 -1.3120807e+00]\n",
      " [-4.4569999e-01 -1.5009648e+00 -5.3791337e-02 -2.8533459e-01]\n",
      " [ 9.3771964e-01  1.1103006e-01  1.0060978e+00  1.5114714e+00]\n",
      " [-9.9844798e-02 -8.1010973e-01  7.2717959e-01  8.6975485e-01]\n",
      " [-9.0684003e-01  8.0188566e-01 -1.2810315e+00 -1.3120807e+00]\n",
      " [ 8.2243478e-01 -3.4953958e-01  4.4826138e-01  9.9695168e-02]\n",
      " [-3.3041510e-01 -1.1925476e-01  1.6934316e-01  9.9695168e-02]\n",
      " [ 1.5440072e-02  3.4131542e-01  5.5982882e-01  7.4141157e-01]\n",
      " [ 4.7658011e-01 -1.7312502e+00  3.3669421e-01  9.9695168e-02]\n",
      " [-4.4569999e-01  1.0321704e+00 -1.3925987e+00 -1.3120807e+00]\n",
      " [-9.0684003e-01  1.4927406e+00 -1.2810315e+00 -1.0553942e+00]\n",
      " [-1.1374098e+00  1.1103006e-01 -1.2810315e+00 -1.4404240e+00]\n",
      " [ 4.7658011e-01 -3.4953958e-01  1.0060978e+00  7.4141157e-01]\n",
      " [-9.9844798e-02 -8.1010973e-01  1.6934316e-01 -2.8533459e-01]\n",
      " [ 2.0905695e+00  1.7230254e+00  1.6197180e+00  1.2547847e+00]\n",
      " [-1.4832650e+00  3.4131542e-01 -1.3368152e+00 -1.3120807e+00]]\n"
     ]
    }
   ],
   "source": [
    "print(x_train)"
   ]
  },
  {
   "cell_type": "code",
   "execution_count": 23,
   "id": "286f5e5e",
   "metadata": {},
   "outputs": [
    {
     "data": {
      "text/html": [
       "<style>#sk-container-id-1 {color: black;background-color: white;}#sk-container-id-1 pre{padding: 0;}#sk-container-id-1 div.sk-toggleable {background-color: white;}#sk-container-id-1 label.sk-toggleable__label {cursor: pointer;display: block;width: 100%;margin-bottom: 0;padding: 0.3em;box-sizing: border-box;text-align: center;}#sk-container-id-1 label.sk-toggleable__label-arrow:before {content: \"▸\";float: left;margin-right: 0.25em;color: #696969;}#sk-container-id-1 label.sk-toggleable__label-arrow:hover:before {color: black;}#sk-container-id-1 div.sk-estimator:hover label.sk-toggleable__label-arrow:before {color: black;}#sk-container-id-1 div.sk-toggleable__content {max-height: 0;max-width: 0;overflow: hidden;text-align: left;background-color: #f0f8ff;}#sk-container-id-1 div.sk-toggleable__content pre {margin: 0.2em;color: black;border-radius: 0.25em;background-color: #f0f8ff;}#sk-container-id-1 input.sk-toggleable__control:checked~div.sk-toggleable__content {max-height: 200px;max-width: 100%;overflow: auto;}#sk-container-id-1 input.sk-toggleable__control:checked~label.sk-toggleable__label-arrow:before {content: \"▾\";}#sk-container-id-1 div.sk-estimator input.sk-toggleable__control:checked~label.sk-toggleable__label {background-color: #d4ebff;}#sk-container-id-1 div.sk-label input.sk-toggleable__control:checked~label.sk-toggleable__label {background-color: #d4ebff;}#sk-container-id-1 input.sk-hidden--visually {border: 0;clip: rect(1px 1px 1px 1px);clip: rect(1px, 1px, 1px, 1px);height: 1px;margin: -1px;overflow: hidden;padding: 0;position: absolute;width: 1px;}#sk-container-id-1 div.sk-estimator {font-family: monospace;background-color: #f0f8ff;border: 1px dotted black;border-radius: 0.25em;box-sizing: border-box;margin-bottom: 0.5em;}#sk-container-id-1 div.sk-estimator:hover {background-color: #d4ebff;}#sk-container-id-1 div.sk-parallel-item::after {content: \"\";width: 100%;border-bottom: 1px solid gray;flex-grow: 1;}#sk-container-id-1 div.sk-label:hover label.sk-toggleable__label {background-color: #d4ebff;}#sk-container-id-1 div.sk-serial::before {content: \"\";position: absolute;border-left: 1px solid gray;box-sizing: border-box;top: 0;bottom: 0;left: 50%;z-index: 0;}#sk-container-id-1 div.sk-serial {display: flex;flex-direction: column;align-items: center;background-color: white;padding-right: 0.2em;padding-left: 0.2em;position: relative;}#sk-container-id-1 div.sk-item {position: relative;z-index: 1;}#sk-container-id-1 div.sk-parallel {display: flex;align-items: stretch;justify-content: center;background-color: white;position: relative;}#sk-container-id-1 div.sk-item::before, #sk-container-id-1 div.sk-parallel-item::before {content: \"\";position: absolute;border-left: 1px solid gray;box-sizing: border-box;top: 0;bottom: 0;left: 50%;z-index: -1;}#sk-container-id-1 div.sk-parallel-item {display: flex;flex-direction: column;z-index: 1;position: relative;background-color: white;}#sk-container-id-1 div.sk-parallel-item:first-child::after {align-self: flex-end;width: 50%;}#sk-container-id-1 div.sk-parallel-item:last-child::after {align-self: flex-start;width: 50%;}#sk-container-id-1 div.sk-parallel-item:only-child::after {width: 0;}#sk-container-id-1 div.sk-dashed-wrapped {border: 1px dashed gray;margin: 0 0.4em 0.5em 0.4em;box-sizing: border-box;padding-bottom: 0.4em;background-color: white;}#sk-container-id-1 div.sk-label label {font-family: monospace;font-weight: bold;display: inline-block;line-height: 1.2em;}#sk-container-id-1 div.sk-label-container {text-align: center;}#sk-container-id-1 div.sk-container {/* jupyter's `normalize.less` sets `[hidden] { display: none; }` but bootstrap.min.css set `[hidden] { display: none !important; }` so we also need the `!important` here to be able to override the default hidden behavior on the sphinx rendered scikit-learn.org. See: https://github.com/scikit-learn/scikit-learn/issues/21755 */display: inline-block !important;position: relative;}#sk-container-id-1 div.sk-text-repr-fallback {display: none;}</style><div id=\"sk-container-id-1\" class=\"sk-top-container\"><div class=\"sk-text-repr-fallback\"><pre>LogisticRegression(random_state=0)</pre><b>In a Jupyter environment, please rerun this cell to show the HTML representation or trust the notebook. <br />On GitHub, the HTML representation is unable to render, please try loading this page with nbviewer.org.</b></div><div class=\"sk-container\" hidden><div class=\"sk-item\"><div class=\"sk-estimator sk-toggleable\"><input class=\"sk-toggleable__control sk-hidden--visually\" id=\"sk-estimator-id-1\" type=\"checkbox\" checked><label for=\"sk-estimator-id-1\" class=\"sk-toggleable__label sk-toggleable__label-arrow\">LogisticRegression</label><div class=\"sk-toggleable__content\"><pre>LogisticRegression(random_state=0)</pre></div></div></div></div></div>"
      ],
      "text/plain": [
       "LogisticRegression(random_state=0)"
      ]
     },
     "execution_count": 23,
     "metadata": {},
     "output_type": "execute_result"
    }
   ],
   "source": [
    "#Training the Logistic Regression model on Training set\n",
    "from sklearn.linear_model import LogisticRegression\n",
    "classifier = LogisticRegression(random_state = 0)\n",
    "classifier.fit(x_train,y_train)"
   ]
  },
  {
   "cell_type": "code",
   "execution_count": 26,
   "id": "5fca5a1e",
   "metadata": {},
   "outputs": [
    {
     "name": "stdout",
     "output_type": "stream",
     "text": [
      "['Iris-setosa']\n"
     ]
    }
   ],
   "source": [
    "#Predicting a new result\n",
    "print(classifier.predict(sc.transform([[5,3,2,1]])))"
   ]
  },
  {
   "cell_type": "code",
   "execution_count": 28,
   "id": "06f33683",
   "metadata": {},
   "outputs": [
    {
     "name": "stdout",
     "output_type": "stream",
     "text": [
      "[['Iris-virginica' 'Iris-virginica']\n",
      " ['Iris-versicolor' 'Iris-versicolor']\n",
      " ['Iris-setosa' 'Iris-setosa']\n",
      " ['Iris-virginica' 'Iris-virginica']\n",
      " ['Iris-setosa' 'Iris-setosa']\n",
      " ['Iris-virginica' 'Iris-virginica']\n",
      " ['Iris-setosa' 'Iris-setosa']\n",
      " ['Iris-versicolor' 'Iris-versicolor']\n",
      " ['Iris-versicolor' 'Iris-versicolor']\n",
      " ['Iris-versicolor' 'Iris-versicolor']\n",
      " ['Iris-virginica' 'Iris-virginica']\n",
      " ['Iris-versicolor' 'Iris-versicolor']\n",
      " ['Iris-versicolor' 'Iris-versicolor']\n",
      " ['Iris-versicolor' 'Iris-versicolor']\n",
      " ['Iris-versicolor' 'Iris-versicolor']\n",
      " ['Iris-setosa' 'Iris-setosa']\n",
      " ['Iris-versicolor' 'Iris-versicolor']\n",
      " ['Iris-versicolor' 'Iris-versicolor']\n",
      " ['Iris-setosa' 'Iris-setosa']\n",
      " ['Iris-setosa' 'Iris-setosa']\n",
      " ['Iris-virginica' 'Iris-virginica']\n",
      " ['Iris-versicolor' 'Iris-versicolor']\n",
      " ['Iris-setosa' 'Iris-setosa']\n",
      " ['Iris-setosa' 'Iris-setosa']\n",
      " ['Iris-virginica' 'Iris-virginica']\n",
      " ['Iris-setosa' 'Iris-setosa']\n",
      " ['Iris-setosa' 'Iris-setosa']\n",
      " ['Iris-versicolor' 'Iris-versicolor']\n",
      " ['Iris-versicolor' 'Iris-versicolor']\n",
      " ['Iris-setosa' 'Iris-setosa']\n",
      " ['Iris-virginica' 'Iris-virginica']\n",
      " ['Iris-versicolor' 'Iris-versicolor']\n",
      " ['Iris-setosa' 'Iris-setosa']\n",
      " ['Iris-virginica' 'Iris-virginica']\n",
      " ['Iris-virginica' 'Iris-virginica']\n",
      " ['Iris-versicolor' 'Iris-versicolor']\n",
      " ['Iris-setosa' 'Iris-setosa']\n",
      " ['Iris-virginica' 'Iris-versicolor']]\n"
     ]
    }
   ],
   "source": [
    "#Predicting a Test set Result\n",
    "y_pred = classifier.predict(x_test)\n",
    "print(np.concatenate((y_pred.reshape(len(y_pred),1),y_test.reshape(len(y_test),1)),1))"
   ]
  },
  {
   "cell_type": "code",
   "execution_count": 29,
   "id": "c91ddea8",
   "metadata": {},
   "outputs": [
    {
     "name": "stdout",
     "output_type": "stream",
     "text": [
      "[[13  0  0]\n",
      " [ 0 15  1]\n",
      " [ 0  0  9]]\n"
     ]
    },
    {
     "data": {
      "text/plain": [
       "0.9736842105263158"
      ]
     },
     "execution_count": 29,
     "metadata": {},
     "output_type": "execute_result"
    }
   ],
   "source": [
    "#Making the confusion Matrix\n",
    "from sklearn.metrics import confusion_matrix,accuracy_score\n",
    "cm = confusion_matrix(y_test,y_pred)\n",
    "print(cm)\n",
    "accuracy_score(y_test,y_pred)"
   ]
  },
  {
   "cell_type": "code",
   "execution_count": null,
   "id": "24da0670",
   "metadata": {},
   "outputs": [],
   "source": []
  }
 ],
 "metadata": {
  "kernelspec": {
   "display_name": "Python 3 (ipykernel)",
   "language": "python",
   "name": "python3"
  },
  "language_info": {
   "codemirror_mode": {
    "name": "ipython",
    "version": 3
   },
   "file_extension": ".py",
   "mimetype": "text/x-python",
   "name": "python",
   "nbconvert_exporter": "python",
   "pygments_lexer": "ipython3",
   "version": "3.10.8"
  }
 },
 "nbformat": 4,
 "nbformat_minor": 5
}
